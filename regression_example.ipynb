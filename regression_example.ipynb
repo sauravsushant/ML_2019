{
 "cells": [
  {
   "cell_type": "code",
   "execution_count": 1,
   "metadata": {},
   "outputs": [],
   "source": [
    "import pandas  as pd\n",
    "import  matplotlib.pyplot  as plt\n",
    "from  sklearn.model_selection  import  train_test_split\n",
    "import  seaborn  as  sb\n",
    "import  numpy  as  np\n",
    "from  sklearn.metrics  import  accuracy_score\n",
    "\n"
   ]
  },
  {
   "cell_type": "code",
   "execution_count": 2,
   "metadata": {},
   "outputs": [
    {
     "name": "stdout",
     "output_type": "stream",
     "text": [
      "<class 'pandas.core.frame.DataFrame'>\n",
      "RangeIndex: 851264 entries, 0 to 851263\n",
      "Data columns (total 7 columns):\n",
      "date      851264 non-null object\n",
      "symbol    851264 non-null object\n",
      "open      851264 non-null float64\n",
      "close     851264 non-null float64\n",
      "low       851264 non-null float64\n",
      "high      851264 non-null float64\n",
      "volume    851264 non-null float64\n",
      "dtypes: float64(5), object(2)\n",
      "memory usage: 45.5+ MB\n"
     ]
    }
   ],
   "source": [
    "# now loading  data\n",
    "df=pd.read_csv('prices-split-adjusted.csv')\n",
    "df.info()"
   ]
  },
  {
   "cell_type": "code",
   "execution_count": 35,
   "metadata": {},
   "outputs": [
    {
     "data": {
      "text/html": [
       "<div>\n",
       "<style scoped>\n",
       "    .dataframe tbody tr th:only-of-type {\n",
       "        vertical-align: middle;\n",
       "    }\n",
       "\n",
       "    .dataframe tbody tr th {\n",
       "        vertical-align: top;\n",
       "    }\n",
       "\n",
       "    .dataframe thead th {\n",
       "        text-align: right;\n",
       "    }\n",
       "</style>\n",
       "<table border=\"1\" class=\"dataframe\">\n",
       "  <thead>\n",
       "    <tr style=\"text-align: right;\">\n",
       "      <th></th>\n",
       "      <th>date</th>\n",
       "      <th>symbol</th>\n",
       "      <th>open</th>\n",
       "      <th>close</th>\n",
       "      <th>low</th>\n",
       "      <th>high</th>\n",
       "      <th>volume</th>\n",
       "    </tr>\n",
       "  </thead>\n",
       "  <tbody>\n",
       "    <tr>\n",
       "      <th>0</th>\n",
       "      <td>2016-01-05</td>\n",
       "      <td>WLTW</td>\n",
       "      <td>123.430000</td>\n",
       "      <td>125.839996</td>\n",
       "      <td>122.309998</td>\n",
       "      <td>126.250000</td>\n",
       "      <td>2163600.0</td>\n",
       "    </tr>\n",
       "    <tr>\n",
       "      <th>1</th>\n",
       "      <td>2016-01-06</td>\n",
       "      <td>WLTW</td>\n",
       "      <td>125.239998</td>\n",
       "      <td>119.980003</td>\n",
       "      <td>119.940002</td>\n",
       "      <td>125.540001</td>\n",
       "      <td>2386400.0</td>\n",
       "    </tr>\n",
       "    <tr>\n",
       "      <th>2</th>\n",
       "      <td>2016-01-07</td>\n",
       "      <td>WLTW</td>\n",
       "      <td>116.379997</td>\n",
       "      <td>114.949997</td>\n",
       "      <td>114.930000</td>\n",
       "      <td>119.739998</td>\n",
       "      <td>2489500.0</td>\n",
       "    </tr>\n",
       "    <tr>\n",
       "      <th>3</th>\n",
       "      <td>2016-01-08</td>\n",
       "      <td>WLTW</td>\n",
       "      <td>115.480003</td>\n",
       "      <td>116.620003</td>\n",
       "      <td>113.500000</td>\n",
       "      <td>117.440002</td>\n",
       "      <td>2006300.0</td>\n",
       "    </tr>\n",
       "    <tr>\n",
       "      <th>4</th>\n",
       "      <td>2016-01-11</td>\n",
       "      <td>WLTW</td>\n",
       "      <td>117.010002</td>\n",
       "      <td>114.970001</td>\n",
       "      <td>114.089996</td>\n",
       "      <td>117.330002</td>\n",
       "      <td>1408600.0</td>\n",
       "    </tr>\n",
       "    <tr>\n",
       "      <th>5</th>\n",
       "      <td>2016-01-12</td>\n",
       "      <td>WLTW</td>\n",
       "      <td>115.510002</td>\n",
       "      <td>115.550003</td>\n",
       "      <td>114.500000</td>\n",
       "      <td>116.059998</td>\n",
       "      <td>1098000.0</td>\n",
       "    </tr>\n",
       "    <tr>\n",
       "      <th>6</th>\n",
       "      <td>2016-01-13</td>\n",
       "      <td>WLTW</td>\n",
       "      <td>116.459999</td>\n",
       "      <td>112.849998</td>\n",
       "      <td>112.589996</td>\n",
       "      <td>117.070000</td>\n",
       "      <td>949600.0</td>\n",
       "    </tr>\n",
       "    <tr>\n",
       "      <th>7</th>\n",
       "      <td>2016-01-14</td>\n",
       "      <td>WLTW</td>\n",
       "      <td>113.510002</td>\n",
       "      <td>114.379997</td>\n",
       "      <td>110.050003</td>\n",
       "      <td>115.029999</td>\n",
       "      <td>785300.0</td>\n",
       "    </tr>\n",
       "    <tr>\n",
       "      <th>8</th>\n",
       "      <td>2016-01-15</td>\n",
       "      <td>WLTW</td>\n",
       "      <td>113.330002</td>\n",
       "      <td>112.529999</td>\n",
       "      <td>111.919998</td>\n",
       "      <td>114.879997</td>\n",
       "      <td>1093700.0</td>\n",
       "    </tr>\n",
       "    <tr>\n",
       "      <th>9</th>\n",
       "      <td>2016-01-19</td>\n",
       "      <td>WLTW</td>\n",
       "      <td>113.660004</td>\n",
       "      <td>110.379997</td>\n",
       "      <td>109.870003</td>\n",
       "      <td>115.870003</td>\n",
       "      <td>1523500.0</td>\n",
       "    </tr>\n",
       "    <tr>\n",
       "      <th>10</th>\n",
       "      <td>2016-01-20</td>\n",
       "      <td>WLTW</td>\n",
       "      <td>109.059998</td>\n",
       "      <td>109.300003</td>\n",
       "      <td>108.320000</td>\n",
       "      <td>111.599998</td>\n",
       "      <td>1653900.0</td>\n",
       "    </tr>\n",
       "    <tr>\n",
       "      <th>11</th>\n",
       "      <td>2016-01-21</td>\n",
       "      <td>WLTW</td>\n",
       "      <td>109.730003</td>\n",
       "      <td>110.000000</td>\n",
       "      <td>108.320000</td>\n",
       "      <td>110.580002</td>\n",
       "      <td>944300.0</td>\n",
       "    </tr>\n",
       "    <tr>\n",
       "      <th>12</th>\n",
       "      <td>2016-01-22</td>\n",
       "      <td>WLTW</td>\n",
       "      <td>111.879997</td>\n",
       "      <td>111.949997</td>\n",
       "      <td>110.190002</td>\n",
       "      <td>112.949997</td>\n",
       "      <td>744900.0</td>\n",
       "    </tr>\n",
       "    <tr>\n",
       "      <th>13</th>\n",
       "      <td>2016-01-25</td>\n",
       "      <td>WLTW</td>\n",
       "      <td>111.320000</td>\n",
       "      <td>110.120003</td>\n",
       "      <td>110.000000</td>\n",
       "      <td>114.629997</td>\n",
       "      <td>703800.0</td>\n",
       "    </tr>\n",
       "    <tr>\n",
       "      <th>14</th>\n",
       "      <td>2016-01-26</td>\n",
       "      <td>WLTW</td>\n",
       "      <td>110.419998</td>\n",
       "      <td>111.000000</td>\n",
       "      <td>107.300003</td>\n",
       "      <td>111.400002</td>\n",
       "      <td>563100.0</td>\n",
       "    </tr>\n",
       "    <tr>\n",
       "      <th>15</th>\n",
       "      <td>2016-01-27</td>\n",
       "      <td>WLTW</td>\n",
       "      <td>110.769997</td>\n",
       "      <td>110.709999</td>\n",
       "      <td>109.019997</td>\n",
       "      <td>112.570000</td>\n",
       "      <td>896100.0</td>\n",
       "    </tr>\n",
       "    <tr>\n",
       "      <th>16</th>\n",
       "      <td>2016-01-28</td>\n",
       "      <td>WLTW</td>\n",
       "      <td>110.900002</td>\n",
       "      <td>112.580002</td>\n",
       "      <td>109.900002</td>\n",
       "      <td>112.970001</td>\n",
       "      <td>680400.0</td>\n",
       "    </tr>\n",
       "    <tr>\n",
       "      <th>17</th>\n",
       "      <td>2016-01-29</td>\n",
       "      <td>WLTW</td>\n",
       "      <td>113.349998</td>\n",
       "      <td>114.470001</td>\n",
       "      <td>111.669998</td>\n",
       "      <td>114.589996</td>\n",
       "      <td>749900.0</td>\n",
       "    </tr>\n",
       "    <tr>\n",
       "      <th>18</th>\n",
       "      <td>2016-02-01</td>\n",
       "      <td>WLTW</td>\n",
       "      <td>114.000000</td>\n",
       "      <td>114.500000</td>\n",
       "      <td>112.900002</td>\n",
       "      <td>114.849998</td>\n",
       "      <td>574200.0</td>\n",
       "    </tr>\n",
       "    <tr>\n",
       "      <th>19</th>\n",
       "      <td>2016-02-02</td>\n",
       "      <td>WLTW</td>\n",
       "      <td>113.250000</td>\n",
       "      <td>110.559998</td>\n",
       "      <td>109.750000</td>\n",
       "      <td>113.860001</td>\n",
       "      <td>694800.0</td>\n",
       "    </tr>\n",
       "    <tr>\n",
       "      <th>20</th>\n",
       "      <td>2016-02-03</td>\n",
       "      <td>WLTW</td>\n",
       "      <td>113.379997</td>\n",
       "      <td>114.050003</td>\n",
       "      <td>109.639999</td>\n",
       "      <td>114.639999</td>\n",
       "      <td>896300.0</td>\n",
       "    </tr>\n",
       "    <tr>\n",
       "      <th>21</th>\n",
       "      <td>2016-02-04</td>\n",
       "      <td>WLTW</td>\n",
       "      <td>114.080002</td>\n",
       "      <td>115.709999</td>\n",
       "      <td>114.080002</td>\n",
       "      <td>116.320000</td>\n",
       "      <td>956300.0</td>\n",
       "    </tr>\n",
       "    <tr>\n",
       "      <th>22</th>\n",
       "      <td>2016-02-05</td>\n",
       "      <td>WLTW</td>\n",
       "      <td>115.120003</td>\n",
       "      <td>114.019997</td>\n",
       "      <td>109.709999</td>\n",
       "      <td>116.489998</td>\n",
       "      <td>997100.0</td>\n",
       "    </tr>\n",
       "    <tr>\n",
       "      <th>23</th>\n",
       "      <td>2016-02-08</td>\n",
       "      <td>WLTW</td>\n",
       "      <td>113.300003</td>\n",
       "      <td>111.160004</td>\n",
       "      <td>110.459999</td>\n",
       "      <td>113.300003</td>\n",
       "      <td>1200500.0</td>\n",
       "    </tr>\n",
       "    <tr>\n",
       "      <th>24</th>\n",
       "      <td>2016-02-09</td>\n",
       "      <td>WLTW</td>\n",
       "      <td>111.169998</td>\n",
       "      <td>110.650002</td>\n",
       "      <td>109.639999</td>\n",
       "      <td>112.110001</td>\n",
       "      <td>1725200.0</td>\n",
       "    </tr>\n",
       "    <tr>\n",
       "      <th>25</th>\n",
       "      <td>2016-02-10</td>\n",
       "      <td>WLTW</td>\n",
       "      <td>106.730003</td>\n",
       "      <td>107.519997</td>\n",
       "      <td>106.360001</td>\n",
       "      <td>112.110001</td>\n",
       "      <td>1946000.0</td>\n",
       "    </tr>\n",
       "    <tr>\n",
       "      <th>26</th>\n",
       "      <td>2016-02-11</td>\n",
       "      <td>WLTW</td>\n",
       "      <td>105.629997</td>\n",
       "      <td>107.129997</td>\n",
       "      <td>104.110001</td>\n",
       "      <td>109.260002</td>\n",
       "      <td>1319500.0</td>\n",
       "    </tr>\n",
       "    <tr>\n",
       "      <th>27</th>\n",
       "      <td>2016-02-12</td>\n",
       "      <td>WLTW</td>\n",
       "      <td>108.559998</td>\n",
       "      <td>107.839996</td>\n",
       "      <td>107.070000</td>\n",
       "      <td>109.430000</td>\n",
       "      <td>922400.0</td>\n",
       "    </tr>\n",
       "    <tr>\n",
       "      <th>28</th>\n",
       "      <td>2016-02-16</td>\n",
       "      <td>WLTW</td>\n",
       "      <td>109.110001</td>\n",
       "      <td>110.769997</td>\n",
       "      <td>107.010002</td>\n",
       "      <td>111.300003</td>\n",
       "      <td>1185100.0</td>\n",
       "    </tr>\n",
       "    <tr>\n",
       "      <th>29</th>\n",
       "      <td>2016-02-17</td>\n",
       "      <td>WLTW</td>\n",
       "      <td>110.830002</td>\n",
       "      <td>111.239998</td>\n",
       "      <td>107.970001</td>\n",
       "      <td>112.110001</td>\n",
       "      <td>921500.0</td>\n",
       "    </tr>\n",
       "    <tr>\n",
       "      <th>...</th>\n",
       "      <td>...</td>\n",
       "      <td>...</td>\n",
       "      <td>...</td>\n",
       "      <td>...</td>\n",
       "      <td>...</td>\n",
       "      <td>...</td>\n",
       "      <td>...</td>\n",
       "    </tr>\n",
       "    <tr>\n",
       "      <th>851234</th>\n",
       "      <td>2016-12-30</td>\n",
       "      <td>WAT</td>\n",
       "      <td>135.240005</td>\n",
       "      <td>134.389999</td>\n",
       "      <td>133.710007</td>\n",
       "      <td>135.300003</td>\n",
       "      <td>464200.0</td>\n",
       "    </tr>\n",
       "    <tr>\n",
       "      <th>851235</th>\n",
       "      <td>2016-12-30</td>\n",
       "      <td>WBA</td>\n",
       "      <td>83.459999</td>\n",
       "      <td>82.760002</td>\n",
       "      <td>82.419998</td>\n",
       "      <td>83.620003</td>\n",
       "      <td>3343200.0</td>\n",
       "    </tr>\n",
       "    <tr>\n",
       "      <th>851236</th>\n",
       "      <td>2016-12-30</td>\n",
       "      <td>WDC</td>\n",
       "      <td>68.550003</td>\n",
       "      <td>67.949997</td>\n",
       "      <td>67.610001</td>\n",
       "      <td>69.400002</td>\n",
       "      <td>2824100.0</td>\n",
       "    </tr>\n",
       "    <tr>\n",
       "      <th>851237</th>\n",
       "      <td>2016-12-30</td>\n",
       "      <td>WEC</td>\n",
       "      <td>58.980000</td>\n",
       "      <td>58.650002</td>\n",
       "      <td>58.419998</td>\n",
       "      <td>59.119999</td>\n",
       "      <td>1221800.0</td>\n",
       "    </tr>\n",
       "    <tr>\n",
       "      <th>851238</th>\n",
       "      <td>2016-12-30</td>\n",
       "      <td>WFC</td>\n",
       "      <td>54.889999</td>\n",
       "      <td>55.110001</td>\n",
       "      <td>54.790001</td>\n",
       "      <td>55.360001</td>\n",
       "      <td>15095500.0</td>\n",
       "    </tr>\n",
       "    <tr>\n",
       "      <th>851239</th>\n",
       "      <td>2016-12-30</td>\n",
       "      <td>WFM</td>\n",
       "      <td>31.059999</td>\n",
       "      <td>30.760000</td>\n",
       "      <td>30.670000</td>\n",
       "      <td>31.299999</td>\n",
       "      <td>2707500.0</td>\n",
       "    </tr>\n",
       "    <tr>\n",
       "      <th>851240</th>\n",
       "      <td>2016-12-30</td>\n",
       "      <td>WHR</td>\n",
       "      <td>183.800003</td>\n",
       "      <td>181.770004</td>\n",
       "      <td>180.869995</td>\n",
       "      <td>184.289993</td>\n",
       "      <td>458200.0</td>\n",
       "    </tr>\n",
       "    <tr>\n",
       "      <th>851241</th>\n",
       "      <td>2016-12-30</td>\n",
       "      <td>WM</td>\n",
       "      <td>71.269997</td>\n",
       "      <td>70.910004</td>\n",
       "      <td>70.750000</td>\n",
       "      <td>71.500000</td>\n",
       "      <td>1230600.0</td>\n",
       "    </tr>\n",
       "    <tr>\n",
       "      <th>851242</th>\n",
       "      <td>2016-12-30</td>\n",
       "      <td>WMB</td>\n",
       "      <td>30.940001</td>\n",
       "      <td>31.139999</td>\n",
       "      <td>30.889999</td>\n",
       "      <td>31.650000</td>\n",
       "      <td>3980300.0</td>\n",
       "    </tr>\n",
       "    <tr>\n",
       "      <th>851243</th>\n",
       "      <td>2016-12-30</td>\n",
       "      <td>WMT</td>\n",
       "      <td>69.120003</td>\n",
       "      <td>69.120003</td>\n",
       "      <td>68.830002</td>\n",
       "      <td>69.430000</td>\n",
       "      <td>6872000.0</td>\n",
       "    </tr>\n",
       "    <tr>\n",
       "      <th>851244</th>\n",
       "      <td>2016-12-30</td>\n",
       "      <td>WRK</td>\n",
       "      <td>51.840000</td>\n",
       "      <td>50.770000</td>\n",
       "      <td>50.529999</td>\n",
       "      <td>51.840000</td>\n",
       "      <td>811200.0</td>\n",
       "    </tr>\n",
       "    <tr>\n",
       "      <th>851245</th>\n",
       "      <td>2016-12-30</td>\n",
       "      <td>WU</td>\n",
       "      <td>21.840000</td>\n",
       "      <td>21.719999</td>\n",
       "      <td>21.600000</td>\n",
       "      <td>21.900000</td>\n",
       "      <td>2538900.0</td>\n",
       "    </tr>\n",
       "    <tr>\n",
       "      <th>851246</th>\n",
       "      <td>2016-12-30</td>\n",
       "      <td>WY</td>\n",
       "      <td>30.450001</td>\n",
       "      <td>30.090000</td>\n",
       "      <td>29.950001</td>\n",
       "      <td>30.450001</td>\n",
       "      <td>2825300.0</td>\n",
       "    </tr>\n",
       "    <tr>\n",
       "      <th>851247</th>\n",
       "      <td>2016-12-30</td>\n",
       "      <td>WYN</td>\n",
       "      <td>76.849998</td>\n",
       "      <td>76.370003</td>\n",
       "      <td>76.180000</td>\n",
       "      <td>76.970001</td>\n",
       "      <td>524600.0</td>\n",
       "    </tr>\n",
       "    <tr>\n",
       "      <th>851248</th>\n",
       "      <td>2016-12-30</td>\n",
       "      <td>WYNN</td>\n",
       "      <td>87.099998</td>\n",
       "      <td>86.510002</td>\n",
       "      <td>85.570000</td>\n",
       "      <td>87.449997</td>\n",
       "      <td>1888500.0</td>\n",
       "    </tr>\n",
       "    <tr>\n",
       "      <th>851249</th>\n",
       "      <td>2016-12-30</td>\n",
       "      <td>XEC</td>\n",
       "      <td>136.520004</td>\n",
       "      <td>135.899994</td>\n",
       "      <td>135.309998</td>\n",
       "      <td>137.559998</td>\n",
       "      <td>466100.0</td>\n",
       "    </tr>\n",
       "    <tr>\n",
       "      <th>851250</th>\n",
       "      <td>2016-12-30</td>\n",
       "      <td>XEL</td>\n",
       "      <td>41.000000</td>\n",
       "      <td>40.700001</td>\n",
       "      <td>40.560001</td>\n",
       "      <td>41.070000</td>\n",
       "      <td>1887600.0</td>\n",
       "    </tr>\n",
       "    <tr>\n",
       "      <th>851251</th>\n",
       "      <td>2016-12-30</td>\n",
       "      <td>XL</td>\n",
       "      <td>37.360001</td>\n",
       "      <td>37.259998</td>\n",
       "      <td>37.060001</td>\n",
       "      <td>37.419998</td>\n",
       "      <td>959200.0</td>\n",
       "    </tr>\n",
       "    <tr>\n",
       "      <th>851252</th>\n",
       "      <td>2016-12-30</td>\n",
       "      <td>XLNX</td>\n",
       "      <td>61.090000</td>\n",
       "      <td>60.369999</td>\n",
       "      <td>60.020000</td>\n",
       "      <td>61.480000</td>\n",
       "      <td>2111700.0</td>\n",
       "    </tr>\n",
       "    <tr>\n",
       "      <th>851253</th>\n",
       "      <td>2016-12-30</td>\n",
       "      <td>XOM</td>\n",
       "      <td>90.029999</td>\n",
       "      <td>90.260002</td>\n",
       "      <td>90.010002</td>\n",
       "      <td>90.699997</td>\n",
       "      <td>9117800.0</td>\n",
       "    </tr>\n",
       "    <tr>\n",
       "      <th>851254</th>\n",
       "      <td>2016-12-30</td>\n",
       "      <td>XRAY</td>\n",
       "      <td>58.290001</td>\n",
       "      <td>57.730000</td>\n",
       "      <td>57.540001</td>\n",
       "      <td>58.360001</td>\n",
       "      <td>949200.0</td>\n",
       "    </tr>\n",
       "    <tr>\n",
       "      <th>851255</th>\n",
       "      <td>2016-12-30</td>\n",
       "      <td>XRX</td>\n",
       "      <td>8.720000</td>\n",
       "      <td>8.730000</td>\n",
       "      <td>8.700000</td>\n",
       "      <td>8.800000</td>\n",
       "      <td>11250400.0</td>\n",
       "    </tr>\n",
       "    <tr>\n",
       "      <th>851256</th>\n",
       "      <td>2016-12-30</td>\n",
       "      <td>XYL</td>\n",
       "      <td>49.980000</td>\n",
       "      <td>49.520000</td>\n",
       "      <td>49.360001</td>\n",
       "      <td>50.000000</td>\n",
       "      <td>646200.0</td>\n",
       "    </tr>\n",
       "    <tr>\n",
       "      <th>851257</th>\n",
       "      <td>2016-12-30</td>\n",
       "      <td>YHOO</td>\n",
       "      <td>38.720001</td>\n",
       "      <td>38.669998</td>\n",
       "      <td>38.430000</td>\n",
       "      <td>39.000000</td>\n",
       "      <td>6431600.0</td>\n",
       "    </tr>\n",
       "    <tr>\n",
       "      <th>851258</th>\n",
       "      <td>2016-12-30</td>\n",
       "      <td>YUM</td>\n",
       "      <td>63.930000</td>\n",
       "      <td>63.330002</td>\n",
       "      <td>63.160000</td>\n",
       "      <td>63.939999</td>\n",
       "      <td>1887100.0</td>\n",
       "    </tr>\n",
       "    <tr>\n",
       "      <th>851259</th>\n",
       "      <td>2016-12-30</td>\n",
       "      <td>ZBH</td>\n",
       "      <td>103.309998</td>\n",
       "      <td>103.199997</td>\n",
       "      <td>102.849998</td>\n",
       "      <td>103.930000</td>\n",
       "      <td>973800.0</td>\n",
       "    </tr>\n",
       "    <tr>\n",
       "      <th>851260</th>\n",
       "      <td>2016-12-30</td>\n",
       "      <td>ZION</td>\n",
       "      <td>43.070000</td>\n",
       "      <td>43.040001</td>\n",
       "      <td>42.689999</td>\n",
       "      <td>43.310001</td>\n",
       "      <td>1938100.0</td>\n",
       "    </tr>\n",
       "    <tr>\n",
       "      <th>851261</th>\n",
       "      <td>2016-12-30</td>\n",
       "      <td>ZTS</td>\n",
       "      <td>53.639999</td>\n",
       "      <td>53.529999</td>\n",
       "      <td>53.270000</td>\n",
       "      <td>53.740002</td>\n",
       "      <td>1701200.0</td>\n",
       "    </tr>\n",
       "    <tr>\n",
       "      <th>851262</th>\n",
       "      <td>2016-12-30</td>\n",
       "      <td>AIV</td>\n",
       "      <td>44.730000</td>\n",
       "      <td>45.450001</td>\n",
       "      <td>44.410000</td>\n",
       "      <td>45.590000</td>\n",
       "      <td>1380900.0</td>\n",
       "    </tr>\n",
       "    <tr>\n",
       "      <th>851263</th>\n",
       "      <td>2016-12-30</td>\n",
       "      <td>FTV</td>\n",
       "      <td>54.200001</td>\n",
       "      <td>53.630001</td>\n",
       "      <td>53.389999</td>\n",
       "      <td>54.480000</td>\n",
       "      <td>705100.0</td>\n",
       "    </tr>\n",
       "  </tbody>\n",
       "</table>\n",
       "<p>851264 rows × 7 columns</p>\n",
       "</div>"
      ],
      "text/plain": [
       "              date symbol        open       close         low        high  \\\n",
       "0       2016-01-05   WLTW  123.430000  125.839996  122.309998  126.250000   \n",
       "1       2016-01-06   WLTW  125.239998  119.980003  119.940002  125.540001   \n",
       "2       2016-01-07   WLTW  116.379997  114.949997  114.930000  119.739998   \n",
       "3       2016-01-08   WLTW  115.480003  116.620003  113.500000  117.440002   \n",
       "4       2016-01-11   WLTW  117.010002  114.970001  114.089996  117.330002   \n",
       "5       2016-01-12   WLTW  115.510002  115.550003  114.500000  116.059998   \n",
       "6       2016-01-13   WLTW  116.459999  112.849998  112.589996  117.070000   \n",
       "7       2016-01-14   WLTW  113.510002  114.379997  110.050003  115.029999   \n",
       "8       2016-01-15   WLTW  113.330002  112.529999  111.919998  114.879997   \n",
       "9       2016-01-19   WLTW  113.660004  110.379997  109.870003  115.870003   \n",
       "10      2016-01-20   WLTW  109.059998  109.300003  108.320000  111.599998   \n",
       "11      2016-01-21   WLTW  109.730003  110.000000  108.320000  110.580002   \n",
       "12      2016-01-22   WLTW  111.879997  111.949997  110.190002  112.949997   \n",
       "13      2016-01-25   WLTW  111.320000  110.120003  110.000000  114.629997   \n",
       "14      2016-01-26   WLTW  110.419998  111.000000  107.300003  111.400002   \n",
       "15      2016-01-27   WLTW  110.769997  110.709999  109.019997  112.570000   \n",
       "16      2016-01-28   WLTW  110.900002  112.580002  109.900002  112.970001   \n",
       "17      2016-01-29   WLTW  113.349998  114.470001  111.669998  114.589996   \n",
       "18      2016-02-01   WLTW  114.000000  114.500000  112.900002  114.849998   \n",
       "19      2016-02-02   WLTW  113.250000  110.559998  109.750000  113.860001   \n",
       "20      2016-02-03   WLTW  113.379997  114.050003  109.639999  114.639999   \n",
       "21      2016-02-04   WLTW  114.080002  115.709999  114.080002  116.320000   \n",
       "22      2016-02-05   WLTW  115.120003  114.019997  109.709999  116.489998   \n",
       "23      2016-02-08   WLTW  113.300003  111.160004  110.459999  113.300003   \n",
       "24      2016-02-09   WLTW  111.169998  110.650002  109.639999  112.110001   \n",
       "25      2016-02-10   WLTW  106.730003  107.519997  106.360001  112.110001   \n",
       "26      2016-02-11   WLTW  105.629997  107.129997  104.110001  109.260002   \n",
       "27      2016-02-12   WLTW  108.559998  107.839996  107.070000  109.430000   \n",
       "28      2016-02-16   WLTW  109.110001  110.769997  107.010002  111.300003   \n",
       "29      2016-02-17   WLTW  110.830002  111.239998  107.970001  112.110001   \n",
       "...            ...    ...         ...         ...         ...         ...   \n",
       "851234  2016-12-30    WAT  135.240005  134.389999  133.710007  135.300003   \n",
       "851235  2016-12-30    WBA   83.459999   82.760002   82.419998   83.620003   \n",
       "851236  2016-12-30    WDC   68.550003   67.949997   67.610001   69.400002   \n",
       "851237  2016-12-30    WEC   58.980000   58.650002   58.419998   59.119999   \n",
       "851238  2016-12-30    WFC   54.889999   55.110001   54.790001   55.360001   \n",
       "851239  2016-12-30    WFM   31.059999   30.760000   30.670000   31.299999   \n",
       "851240  2016-12-30    WHR  183.800003  181.770004  180.869995  184.289993   \n",
       "851241  2016-12-30     WM   71.269997   70.910004   70.750000   71.500000   \n",
       "851242  2016-12-30    WMB   30.940001   31.139999   30.889999   31.650000   \n",
       "851243  2016-12-30    WMT   69.120003   69.120003   68.830002   69.430000   \n",
       "851244  2016-12-30    WRK   51.840000   50.770000   50.529999   51.840000   \n",
       "851245  2016-12-30     WU   21.840000   21.719999   21.600000   21.900000   \n",
       "851246  2016-12-30     WY   30.450001   30.090000   29.950001   30.450001   \n",
       "851247  2016-12-30    WYN   76.849998   76.370003   76.180000   76.970001   \n",
       "851248  2016-12-30   WYNN   87.099998   86.510002   85.570000   87.449997   \n",
       "851249  2016-12-30    XEC  136.520004  135.899994  135.309998  137.559998   \n",
       "851250  2016-12-30    XEL   41.000000   40.700001   40.560001   41.070000   \n",
       "851251  2016-12-30     XL   37.360001   37.259998   37.060001   37.419998   \n",
       "851252  2016-12-30   XLNX   61.090000   60.369999   60.020000   61.480000   \n",
       "851253  2016-12-30    XOM   90.029999   90.260002   90.010002   90.699997   \n",
       "851254  2016-12-30   XRAY   58.290001   57.730000   57.540001   58.360001   \n",
       "851255  2016-12-30    XRX    8.720000    8.730000    8.700000    8.800000   \n",
       "851256  2016-12-30    XYL   49.980000   49.520000   49.360001   50.000000   \n",
       "851257  2016-12-30   YHOO   38.720001   38.669998   38.430000   39.000000   \n",
       "851258  2016-12-30    YUM   63.930000   63.330002   63.160000   63.939999   \n",
       "851259  2016-12-30    ZBH  103.309998  103.199997  102.849998  103.930000   \n",
       "851260  2016-12-30   ZION   43.070000   43.040001   42.689999   43.310001   \n",
       "851261  2016-12-30    ZTS   53.639999   53.529999   53.270000   53.740002   \n",
       "851262  2016-12-30    AIV   44.730000   45.450001   44.410000   45.590000   \n",
       "851263  2016-12-30    FTV   54.200001   53.630001   53.389999   54.480000   \n",
       "\n",
       "            volume  \n",
       "0        2163600.0  \n",
       "1        2386400.0  \n",
       "2        2489500.0  \n",
       "3        2006300.0  \n",
       "4        1408600.0  \n",
       "5        1098000.0  \n",
       "6         949600.0  \n",
       "7         785300.0  \n",
       "8        1093700.0  \n",
       "9        1523500.0  \n",
       "10       1653900.0  \n",
       "11        944300.0  \n",
       "12        744900.0  \n",
       "13        703800.0  \n",
       "14        563100.0  \n",
       "15        896100.0  \n",
       "16        680400.0  \n",
       "17        749900.0  \n",
       "18        574200.0  \n",
       "19        694800.0  \n",
       "20        896300.0  \n",
       "21        956300.0  \n",
       "22        997100.0  \n",
       "23       1200500.0  \n",
       "24       1725200.0  \n",
       "25       1946000.0  \n",
       "26       1319500.0  \n",
       "27        922400.0  \n",
       "28       1185100.0  \n",
       "29        921500.0  \n",
       "...            ...  \n",
       "851234    464200.0  \n",
       "851235   3343200.0  \n",
       "851236   2824100.0  \n",
       "851237   1221800.0  \n",
       "851238  15095500.0  \n",
       "851239   2707500.0  \n",
       "851240    458200.0  \n",
       "851241   1230600.0  \n",
       "851242   3980300.0  \n",
       "851243   6872000.0  \n",
       "851244    811200.0  \n",
       "851245   2538900.0  \n",
       "851246   2825300.0  \n",
       "851247    524600.0  \n",
       "851248   1888500.0  \n",
       "851249    466100.0  \n",
       "851250   1887600.0  \n",
       "851251    959200.0  \n",
       "851252   2111700.0  \n",
       "851253   9117800.0  \n",
       "851254    949200.0  \n",
       "851255  11250400.0  \n",
       "851256    646200.0  \n",
       "851257   6431600.0  \n",
       "851258   1887100.0  \n",
       "851259    973800.0  \n",
       "851260   1938100.0  \n",
       "851261   1701200.0  \n",
       "851262   1380900.0  \n",
       "851263    705100.0  \n",
       "\n",
       "[851264 rows x 7 columns]"
      ]
     },
     "execution_count": 35,
     "metadata": {},
     "output_type": "execute_result"
    }
   ],
   "source": [
    "df"
   ]
  },
  {
   "cell_type": "code",
   "execution_count": 36,
   "metadata": {},
   "outputs": [],
   "source": [
    "#sb.countplot(df['volume'])  "
   ]
  },
  {
   "cell_type": "code",
   "execution_count": 37,
   "metadata": {},
   "outputs": [
    {
     "data": {
      "text/plain": [
       "array([[123.43    ],\n",
       "       [125.239998],\n",
       "       [116.379997],\n",
       "       ...,\n",
       "       [ 53.639999],\n",
       "       [ 44.73    ],\n",
       "       [ 54.200001]])"
      ]
     },
     "execution_count": 37,
     "metadata": {},
     "output_type": "execute_result"
    }
   ],
   "source": [
    "y=df.iloc[:,2:3].values\n",
    "y.reshape(-1,1)\n",
    "y\n"
   ]
  },
  {
   "cell_type": "code",
   "execution_count": 38,
   "metadata": {},
   "outputs": [
    {
     "data": {
      "text/plain": [
       "array([[2163600.],\n",
       "       [2386400.],\n",
       "       [2489500.],\n",
       "       ...,\n",
       "       [1701200.],\n",
       "       [1380900.],\n",
       "       [ 705100.]])"
      ]
     },
     "execution_count": 38,
     "metadata": {},
     "output_type": "execute_result"
    }
   ],
   "source": [
    "#  data  with  X  axis experience\n",
    "x=df.iloc[:,6:7].values\n",
    "x.reshape(-1,1)\n",
    "x"
   ]
  },
  {
   "cell_type": "code",
   "execution_count": null,
   "metadata": {},
   "outputs": [],
   "source": []
  },
  {
   "cell_type": "code",
   "execution_count": 41,
   "metadata": {},
   "outputs": [],
   "source": [
    "#  training  and testing  set  \n",
    "train_x,test_x,train_y,test_y=train_tetrain_x,test_x,train_y,test_y=train_test_split(x,y,test_size=0.2,random_state=0)\n",
    "\n"
   ]
  },
  {
   "cell_type": "code",
   "execution_count": 42,
   "metadata": {},
   "outputs": [],
   "source": [
    "#  calling  linear  regression\n",
    "from  sklearn.linear_model  import  LinearRegression\n",
    "regr=LinearRegression()\n"
   ]
  },
  {
   "cell_type": "code",
   "execution_count": 43,
   "metadata": {},
   "outputs": [],
   "source": [
    " #now applying  training  data and  answer\n",
    "trained=regr.fit(train_x,train_y)"
   ]
  },
  {
   "cell_type": "code",
   "execution_count": 44,
   "metadata": {},
   "outputs": [],
   "source": [
    "output=trained.predict(test_x)"
   ]
  },
  {
   "cell_type": "code",
   "execution_count": 45,
   "metadata": {},
   "outputs": [
    {
     "data": {
      "text/plain": [
       "<matplotlib.legend.Legend at 0x7facc92b9fd0>"
      ]
     },
     "execution_count": 45,
     "metadata": {},
     "output_type": "execute_result"
    },
    {
     "name": "stderr",
     "output_type": "stream",
     "text": [
      "/usr/lib/python3/dist-packages/IPython/core/events.py:74: UserWarning: Creating legend with loc=\"best\" can be slow with large amounts of data.\n",
      "  func(*args, **kwargs)\n",
      "/usr/lib/python3/dist-packages/IPython/core/pylabtools.py:125: UserWarning: Creating legend with loc=\"best\" can be slow with large amounts of data.\n",
      "  fig.canvas.print_figure(bytes_io, **kw)\n"
     ]
    },
    {
     "data": {
      "image/png": "[encoded data removed]",
      "text/plain": [
       "<Figure size 432x288 with 1 Axes>"
      ]
     },
     "metadata": {},
     "output_type": "display_data"
    }
   ],
   "source": [
    "plt.scatter(train_x,train_y,label='open vs volume',color='red')\n",
    "plt.plot(train_x,trained.predict(train_x),color='green')\n",
    "#plt.plot(test_x,output,color='blue')\n",
    "plt.xlabel('open')\n",
    "plt.ylabel('volume')\n",
    "plt.legend()"
   ]
  },
  {
   "cell_type": "code",
   "execution_count": 47,
   "metadata": {},
   "outputs": [
    {
     "data": {
      "text/plain": [
       "<matplotlib.legend.Legend at 0x7facc9210400>"
      ]
     },
     "execution_count": 47,
     "metadata": {},
     "output_type": "execute_result"
    },
    {
     "data": {
      "image/png": "[encoded data removed]",
      "text/plain": [
       "<Figure size 432x288 with 1 Axes>"
      ]
     },
     "metadata": {},
     "output_type": "display_data"
    }
   ],
   "source": [
    "#making  model of  untrained data\n",
    "plt.scatter(train_x,train_y,label='open vs volume',color='red')\n",
    "\n",
    "plt.plot(test_x,output,color='blue')\n",
    "plt.xlabel('open')\n",
    "plt.ylabel('volume')\n",
    "plt.legend()\n"
   ]
  },
  {
   "cell_type": "code",
   "execution_count": 3,
   "metadata": {},
   "outputs": [
    {
     "data": {
      "text/plain": [
       "array([[125.839996],\n",
       "       [119.980003],\n",
       "       [114.949997],\n",
       "       ...,\n",
       "       [ 53.529999],\n",
       "       [ 45.450001],\n",
       "       [ 53.630001]])"
      ]
     },
     "execution_count": 3,
     "metadata": {},
     "output_type": "execute_result"
    }
   ],
   "source": [
    "y=df.iloc[:,3:4].values\n",
    "y.reshape(-1,1)\n",
    "y\n"
   ]
  },
  {
   "cell_type": "code",
   "execution_count": 4,
   "metadata": {},
   "outputs": [
    {
     "data": {
      "text/plain": [
       "array([[2163600.],\n",
       "       [2386400.],\n",
       "       [2489500.],\n",
       "       ...,\n",
       "       [1701200.],\n",
       "       [1380900.],\n",
       "       [ 705100.]])"
      ]
     },
     "execution_count": 4,
     "metadata": {},
     "output_type": "execute_result"
    }
   ],
   "source": [
    "x=df.iloc[:,6:7].values\n",
    "x.reshape(-1,1)\n",
    "x"
   ]
  },
  {
   "cell_type": "code",
   "execution_count": 5,
   "metadata": {},
   "outputs": [],
   "source": [
    "train_x,test_x,train_y,test_y=train_test_split(x,y,test_size=0.2,random_state=0)\n"
   ]
  },
  {
   "cell_type": "code",
   "execution_count": 6,
   "metadata": {},
   "outputs": [],
   "source": [
    "from  sklearn.linear_model  import  LinearRegression\n",
    "regr=LinearRegression()\n"
   ]
  },
  {
   "cell_type": "code",
   "execution_count": 7,
   "metadata": {},
   "outputs": [],
   "source": [
    "trained=regr.fit(train_x,train_y)"
   ]
  },
  {
   "cell_type": "code",
   "execution_count": 8,
   "metadata": {},
   "outputs": [],
   "source": [
    "output=trained.predict(test_x)"
   ]
  },
  {
   "cell_type": "code",
   "execution_count": 9,
   "metadata": {},
   "outputs": [
    {
     "data": {
      "text/plain": [
       "<matplotlib.legend.Legend at 0x7f36c625e6d8>"
      ]
     },
     "execution_count": 9,
     "metadata": {},
     "output_type": "execute_result"
    },
    {
     "name": "stderr",
     "output_type": "stream",
     "text": [
      "/usr/lib/python3/dist-packages/IPython/core/events.py:74: UserWarning: Creating legend with loc=\"best\" can be slow with large amounts of data.\n",
      "  func(*args, **kwargs)\n",
      "/usr/lib/python3/dist-packages/IPython/core/pylabtools.py:125: UserWarning: Creating legend with loc=\"best\" can be slow with large amounts of data.\n",
      "  fig.canvas.print_figure(bytes_io, **kw)\n"
     ]
    },
    {
     "data": {
      "image/png": "[encoded data removed]",
      "text/plain": [
       "<Figure size 432x288 with 1 Axes>"
      ]
     },
     "metadata": {},
     "output_type": "display_data"
    }
   ],
   "source": [
    "plt.scatter(train_x,train_y,label='close vs volume',color='red')\n",
    "plt.plot(train_x,trained.predict(train_x),color='green')\n",
    "\n",
    "plt.xlabel('close')\n",
    "plt.ylabel('volume')\n",
    "plt.legend()"
   ]
  },
  {
   "cell_type": "code",
   "execution_count": 10,
   "metadata": {},
   "outputs": [
    {
     "data": {
      "text/plain": [
       "<matplotlib.legend.Legend at 0x7f36bc3e2828>"
      ]
     },
     "execution_count": 10,
     "metadata": {},
     "output_type": "execute_result"
    },
    {
     "data": {
      "image/png": "[encoded data removed]",
      "text/plain": [
       "<Figure size 432x288 with 1 Axes>"
      ]
     },
     "metadata": {},
     "output_type": "display_data"
    }
   ],
   "source": [
    "plt.scatter(train_x,train_y,label='close vs volume',color='red')\n",
    "\n",
    "plt.plot(test_x,output,color='blue')\n",
    "plt.xlabel('close')\n",
    "plt.ylabel('volume')\n",
    "plt.legend()\n"
   ]
  },
  {
   "cell_type": "code",
   "execution_count": 11,
   "metadata": {},
   "outputs": [
    {
     "data": {
      "text/plain": [
       "array([[2163600.],\n",
       "       [2386400.],\n",
       "       [2489500.],\n",
       "       ...,\n",
       "       [1701200.],\n",
       "       [1380900.],\n",
       "       [ 705100.]])"
      ]
     },
     "execution_count": 11,
     "metadata": {},
     "output_type": "execute_result"
    }
   ],
   "source": [
    "x=df.iloc[:,6:7].values\n",
    "x"
   ]
  },
  {
   "cell_type": "code",
   "execution_count": 12,
   "metadata": {},
   "outputs": [
    {
     "data": {
      "text/plain": [
       "array([[125.839996],\n",
       "       [119.980003],\n",
       "       [114.949997],\n",
       "       ...,\n",
       "       [ 53.529999],\n",
       "       [ 45.450001],\n",
       "       [ 53.630001]])"
      ]
     },
     "execution_count": 12,
     "metadata": {},
     "output_type": "execute_result"
    }
   ],
   "source": [
    "y=df.iloc[:,3:4].values\n",
    "y.reshape(-1,1)\n",
    "y\n"
   ]
  },
  {
   "cell_type": "code",
   "execution_count": 13,
   "metadata": {},
   "outputs": [],
   "source": [
    "train_x,test_x,train_y,test_y=train_test_split(x,y,test_size=0.2,random_state=0)"
   ]
  },
  {
   "cell_type": "code",
   "execution_count": 14,
   "metadata": {},
   "outputs": [],
   "source": [
    "from  sklearn.linear_model  import  LinearRegression\n",
    "regr=LinearRegression()\n"
   ]
  },
  {
   "cell_type": "code",
   "execution_count": 15,
   "metadata": {},
   "outputs": [],
   "source": [
    "trained=regr.fit(train_x,train_y)"
   ]
  },
  {
   "cell_type": "code",
   "execution_count": 16,
   "metadata": {},
   "outputs": [],
   "source": [
    "output=trained.predict(test_x)"
   ]
  },
  {
   "cell_type": "code",
   "execution_count": 17,
   "metadata": {},
   "outputs": [
    {
     "data": {
      "text/plain": [
       "<matplotlib.legend.Legend at 0x7f36c551ed68>"
      ]
     },
     "execution_count": 17,
     "metadata": {},
     "output_type": "execute_result"
    },
    {
     "name": "stderr",
     "output_type": "stream",
     "text": [
      "/usr/lib/python3/dist-packages/IPython/core/events.py:74: UserWarning: Creating legend with loc=\"best\" can be slow with large amounts of data.\n",
      "  func(*args, **kwargs)\n",
      "/usr/lib/python3/dist-packages/IPython/core/pylabtools.py:125: UserWarning: Creating legend with loc=\"best\" can be slow with large amounts of data.\n",
      "  fig.canvas.print_figure(bytes_io, **kw)\n"
     ]
    },
    {
     "data": {
      "image/png": "[encoded data removed]",
      "text/plain": [
       "<Figure size 432x288 with 1 Axes>"
      ]
     },
     "metadata": {},
     "output_type": "display_data"
    }
   ],
   "source": [
    "plt.scatter(train_x,train_y,label='low vs volume',color='red')\n",
    "plt.plot(train_x,trained.predict(train_x),color='green')\n",
    "#plt.plot(test_x,output,color='blue')\n",
    "plt.xlabel('low')\n",
    "plt.ylabel('volume')\n",
    "plt.legend()"
   ]
  },
  {
   "cell_type": "code",
   "execution_count": 18,
   "metadata": {},
   "outputs": [
    {
     "data": {
      "text/plain": [
       "<matplotlib.legend.Legend at 0x7f36c54a00f0>"
      ]
     },
     "execution_count": 18,
     "metadata": {},
     "output_type": "execute_result"
    },
    {
     "data": {
      "image/png": "[encoded data removed]",
      "text/plain": [
       "<Figure size 432x288 with 1 Axes>"
      ]
     },
     "metadata": {},
     "output_type": "display_data"
    }
   ],
   "source": [
    "plt.scatter(train_x,train_y,label='low vs volume',color='red')\n",
    "\n",
    "plt.plot(test_x,output,color='blue')\n",
    "plt.xlabel('low')\n",
    "plt.ylabel('volume')\n",
    "plt.legend()\n"
   ]
  },
  {
   "cell_type": "code",
   "execution_count": null,
   "metadata": {},
   "outputs": [],
   "source": []
  }
 ],
 "metadata": {
  "kernelspec": {
   "display_name": "Python 3",
   "language": "python",
   "name": "python3"
  },
  "language_info": {
   "codemirror_mode": {
    "name": "ipython",
    "version": 3
   },
   "file_extension": ".py",
   "mimetype": "text/x-python",
   "name": "python",
   "nbconvert_exporter": "python",
   "pygments_lexer": "ipython3",
   "version": "3.6.7"
  }
 },
 "nbformat": 4,
 "nbformat_minor": 2
}
