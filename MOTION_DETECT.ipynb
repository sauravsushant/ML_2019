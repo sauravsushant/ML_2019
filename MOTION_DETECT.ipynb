{
 "cells": [
  {
   "cell_type": "code",
   "execution_count": 2,
   "metadata": {},
   "outputs": [
    {
     "name": "stdout",
     "output_type": "stream",
     "text": [
      "Collecting opencv-python\n",
      "  Downloading https://files.pythonhosted.org/packages/dc/54/a6b7727c67d4e14194549a9e1a1acd7902ebae2f4a688d84b658ae40b5fb/opencv_python-4.1.0.25-cp36-cp36m-win_amd64.whl (37.3MB)\n",
      "Requirement already satisfied: numpy>=1.11.3 in c:\\users\\saurav\\anaconda3\\lib\\site-packages (from opencv-python) (1.14.3)\n",
      "Installing collected packages: opencv-python\n",
      "Successfully installed opencv-python-4.1.0.25\n"
     ]
    },
    {
     "name": "stderr",
     "output_type": "stream",
     "text": [
      "distributed 1.21.8 requires msgpack, which is not installed.\n",
      "You are using pip version 10.0.1, however version 19.1.1 is available.\n",
      "You should consider upgrading via the 'python -m pip install --upgrade pip' command.\n"
     ]
    }
   ],
   "source": [
    "!pip install opencv-python"
   ]
  },
  {
   "cell_type": "code",
   "execution_count": 8,
   "metadata": {},
   "outputs": [],
   "source": [
    "import cv2"
   ]
  },
  {
   "cell_type": "code",
   "execution_count": 11,
   "metadata": {},
   "outputs": [],
   "source": [
    "cap=cv2.VideoCapture(0)\n",
    "tp1=cap.read()[1]\n",
    "tp2=cap.read()[1]\n",
    "tp3=cap.read()[1]\n"
   ]
  },
  {
   "cell_type": "code",
   "execution_count": 14,
   "metadata": {},
   "outputs": [],
   "source": [
    "gray1=cv2.cvtColor(tp1,cv2.COLOR_BGR2GRAY)\n",
    "gray2=cv2.cvtColor(tp2,cv2.COLOR_BGR2GRAY)\n",
    "gray3=cv2.cvtColor(tp3,cv2.COLOR_BGR2GRAY)\n"
   ]
  },
  {
   "cell_type": "code",
   "execution_count": 12,
   "metadata": {},
   "outputs": [],
   "source": [
    "#  create  image diff function\n",
    "def  image_diff(x,y,z):\n",
    "\timgdiff1=cv2.absdiff(x,y)\n",
    "\timgdiff2=cv2.absdiff(y,z)\n",
    "\tfinalimgdiff=cv2.bitwise_and(imgdiff1,imgdiff2)\n",
    "\treturn  finalimgdiff\n"
   ]
  },
  {
   "cell_type": "code",
   "execution_count": null,
   "metadata": {},
   "outputs": [],
   "source": [
    "#  continue camera\n",
    "while cap.isOpened(): \n",
    "\tstatus,frame=cap.read()\n",
    "\t#  calling  function \n",
    "\timage_abs=image_diff(gray1,gray2,gray3)\n",
    "\tgray1=gray2\n",
    "\tgray2=gray3\n",
    "\tgray3=cv2.cvtColor(frame,cv2.COLOR_BGR2GRAY)\n",
    "\tcv2.imshow('motion',frame)\n",
    "\tcv2.imshow('motion1',image_abs)\n",
    "\tprint(image_abs)\n",
    "\tif cv2.waitKey(10)  & 0xff == ord('q') :\n",
    "\t\tbreak\n",
    "\n",
    "cv2.waitKey(0)\n",
    "cv2.destroyAllWindows()"
   ]
  }
 ],
 "metadata": {
  "kernelspec": {
   "display_name": "Python 3",
   "language": "python",
   "name": "python3"
  },
  "language_info": {
   "codemirror_mode": {
    "name": "ipython",
    "version": 3
   },
   "file_extension": ".py",
   "mimetype": "text/x-python",
   "name": "python",
   "nbconvert_exporter": "python",
   "pygments_lexer": "ipython3",
   "version": "3.6.5"
  }
 },
 "nbformat": 4,
 "nbformat_minor": 2
}
